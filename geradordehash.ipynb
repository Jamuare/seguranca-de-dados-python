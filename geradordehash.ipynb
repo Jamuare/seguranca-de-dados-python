{
 "cells": [
  {
   "cell_type": "code",
   "execution_count": 1,
   "metadata": {},
   "outputs": [],
   "source": [
    "import hashlib"
   ]
  },
  {
   "cell_type": "code",
   "execution_count": 8,
   "metadata": {},
   "outputs": [
    {
     "name": "stdin",
     "output_type": "stream",
     "text": [
      "Digite qq coisa jamuare\n",
      " #### MENU - Escolha o tipo de Hash\n",
      "1-MD5\n",
      "2-SHA1\n",
      "3-SHA256\n",
      "4-SHA512\n",
      "Digite um número de 1 a 4:  3\n"
     ]
    },
    {
     "name": "stdout",
     "output_type": "stream",
     "text": [
      "A hash SHA256 é:  00d3f4f30ddd05c90facf5fd6080c955e7a57fed5c771cd13bf237710dc93de5\n"
     ]
    }
   ],
   "source": [
    "str = input('Digite qq coisa')\n",
    "\n",
    "menu = int(input(''' #### MENU - Escolha o tipo de Hash\n",
    "1-MD5\n",
    "2-SHA1\n",
    "3-SHA256\n",
    "4-SHA512\n",
    "Digite um número de 1 a 4: '''))\n",
    "\n",
    "if menu == 1:\n",
    "    resultado = hashlib.md5(str.encode('utf-8'))\n",
    "    print('A hash MD5 é: ', resultado.hexdigest())\n",
    "elif menu == 2:\n",
    "    resultado = hashlib.sha1(str.encode('utf-8'))\n",
    "    print('A hash SHA1 é: ', resultado.hexdigest())\n",
    "elif menu == 3:\n",
    "    resultado = hashlib.sha256(str.encode('utf-8'))\n",
    "    print('A hash SHA256 é: ', resultado.hexdigest())\n",
    "elif menu == 4:\n",
    "    resultado = hashlib.sha512(str.encode('utf-8'))\n",
    "    print('A hash SHA512 é: ', resultado.hexdigest())\n",
    "else:\n",
    "    print('Vc digitou errado seu animal')\n",
    "    \n",
    "#resultado = hashlib.md5(b'Python Security')#b-> converte em bytes\n",
    "#resultado = hashlib.md5(str.encode('utf-8'))\n",
    "#print('O hash é: ', resultado.hexdigest())"
   ]
  },
  {
   "cell_type": "code",
   "execution_count": null,
   "metadata": {},
   "outputs": [],
   "source": []
  }
 ],
 "metadata": {
  "kernelspec": {
   "display_name": "Python 3",
   "language": "python",
   "name": "python3"
  },
  "language_info": {
   "codemirror_mode": {
    "name": "ipython",
    "version": 3
   },
   "file_extension": ".py",
   "mimetype": "text/x-python",
   "name": "python",
   "nbconvert_exporter": "python",
   "pygments_lexer": "ipython3",
   "version": "3.8.5"
  }
 },
 "nbformat": 4,
 "nbformat_minor": 4
}
