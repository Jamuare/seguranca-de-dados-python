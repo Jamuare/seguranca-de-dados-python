{
 "cells": [
  {
   "cell_type": "code",
   "execution_count": 1,
   "metadata": {},
   "outputs": [],
   "source": [
    "import ctypes"
   ]
  },
  {
   "cell_type": "code",
   "execution_count": null,
   "metadata": {},
   "outputs": [],
   "source": [
    "atributo_ocultar = 0x02\n",
    "\n",
    "\n",
    "\n",
    "retorno = ctypes.windll.kernel32.SetFileAttributesW('hosts.txt', atributo_ocultar)\n",
    "\n",
    "if retorno:\n",
    "    print('Arquivo foi ocultado')\n",
    "else:\n",
    "    print('Arquivo não foi ocultado')"
   ]
  }
 ],
 "metadata": {
  "kernelspec": {
   "display_name": "Python 3",
   "language": "python",
   "name": "python3"
  },
  "language_info": {
   "codemirror_mode": {
    "name": "ipython",
    "version": 3
   },
   "file_extension": ".py",
   "mimetype": "text/x-python",
   "name": "python",
   "nbconvert_exporter": "python",
   "pygments_lexer": "ipython3",
   "version": "3.8.5"
  }
 },
 "nbformat": 4,
 "nbformat_minor": 4
}
