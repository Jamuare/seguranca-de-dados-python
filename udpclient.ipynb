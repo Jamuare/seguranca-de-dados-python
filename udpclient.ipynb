{
 "cells": [
  {
   "cell_type": "code",
   "execution_count": 1,
   "metadata": {},
   "outputs": [],
   "source": [
    "import socket"
   ]
  },
  {
   "cell_type": "code",
   "execution_count": 2,
   "metadata": {},
   "outputs": [
    {
     "name": "stdout",
     "output_type": "stream",
     "text": [
      "Cliente Socket criado com sucesso\n",
      "Cliente: Olá, servidor! Firmeza?\n",
      "Servidor: Oláááááá enfermeira!!!\n",
      "Cliente: Fechando a conexão\n"
     ]
    }
   ],
   "source": [
    "s = socket.socket(socket.AF_INET, socket.SOCK_DGRAM)\n",
    "\n",
    "print('Cliente Socket criado com sucesso')\n",
    "\n",
    "host = 'localhost'\n",
    "porta = 5433# essa var é para?\n",
    "\n",
    "mensagem = 'Olá, servidor! Firmeza?'\n",
    "\n",
    "try:\n",
    "    #print('Cliente: '+ mensagem)\n",
    "    s.sendto(mensagem.encode(),(host, 5432))\n",
    "    dados, servidor = s.recvfrom(4096)\n",
    "    dados = dados.decode()\n",
    "    \n",
    "    print('Cliente: '+dados)\n",
    "    \n",
    "finally:\n",
    "    print('Cliente: Fechando a conexão')\n",
    "    s.close()"
   ]
  },
  {
   "cell_type": "code",
   "execution_count": null,
   "metadata": {},
   "outputs": [],
   "source": []
  },
  {
   "cell_type": "code",
   "execution_count": null,
   "metadata": {},
   "outputs": [],
   "source": []
  }
 ],
 "metadata": {
  "kernelspec": {
   "display_name": "Python 3",
   "language": "python",
   "name": "python3"
  },
  "language_info": {
   "codemirror_mode": {
    "name": "ipython",
    "version": 3
   },
   "file_extension": ".py",
   "mimetype": "text/x-python",
   "name": "python",
   "nbconvert_exporter": "python",
   "pygments_lexer": "ipython3",
   "version": "3.8.5"
  }
 },
 "nbformat": 4,
 "nbformat_minor": 4
}
