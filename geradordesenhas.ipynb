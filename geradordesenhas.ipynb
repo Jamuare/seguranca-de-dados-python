{
 "cells": [
  {
   "cell_type": "code",
   "execution_count": 2,
   "metadata": {},
   "outputs": [],
   "source": [
    "import random, string"
   ]
  },
  {
   "cell_type": "code",
   "execution_count": 4,
   "metadata": {},
   "outputs": [
    {
     "name": "stdin",
     "output_type": "stream",
     "text": [
      "Qual o tamanho da senha vc deseja? 16\n"
     ]
    },
    {
     "name": "stdout",
     "output_type": "stream",
     "text": [
      "C<)0j4eK.çCL:CL6\n"
     ]
    }
   ],
   "source": [
    "tamanho = int(input('Qual o tamanho da senha vc deseja?'))\n",
    "chars = string.ascii_letters + string.digits + '!@#$%¨&*()ç_-=,.;:><+'\n",
    "rnd = random.SystemRandom()\n",
    "\n",
    "print(''.join(rnd.choice(chars) for i in range(tamanho)))"
   ]
  },
  {
   "cell_type": "code",
   "execution_count": null,
   "metadata": {},
   "outputs": [],
   "source": []
  }
 ],
 "metadata": {
  "kernelspec": {
   "display_name": "Python 3",
   "language": "python",
   "name": "python3"
  },
  "language_info": {
   "codemirror_mode": {
    "name": "ipython",
    "version": 3
   },
   "file_extension": ".py",
   "mimetype": "text/x-python",
   "name": "python",
   "nbconvert_exporter": "python",
   "pygments_lexer": "ipython3",
   "version": "3.8.5"
  }
 },
 "nbformat": 4,
 "nbformat_minor": 4
}
