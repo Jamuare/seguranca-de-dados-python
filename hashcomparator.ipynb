{
 "cells": [
  {
   "cell_type": "code",
   "execution_count": 4,
   "metadata": {},
   "outputs": [],
   "source": [
    "import hashlib"
   ]
  },
  {
   "cell_type": "code",
   "execution_count": 5,
   "metadata": {},
   "outputs": [],
   "source": [
    "#criando arquivos de texto\n",
    "arquivo = open('b.txt','a')\n",
    "texto = \"\"\"Este é o curso de Python para Segurança\"\"\"\n",
    "arquivo.write(texto)\n",
    "arquivo.close()"
   ]
  },
  {
   "cell_type": "code",
   "execution_count": 8,
   "metadata": {},
   "outputs": [],
   "source": [
    "arquivo1 = 'a.txt'\n",
    "arquivo2 = 'b.txt'\n",
    "\n",
    "hash1 = hashlib.new('ripemd160')\n",
    "\n",
    "hash1.update(open(arquivo1, 'rb').read())#vai abrir o arquivo e aplicar a criptografia nele\n",
    "\n",
    "hash2 = hashlib.new('ripemd160')\n",
    "\n",
    "hash2.update(open(arquivo2, 'rb').read())#vai abrir o arquivo e aplicar a criptografia nele"
   ]
  },
  {
   "cell_type": "code",
   "execution_count": 11,
   "metadata": {},
   "outputs": [
    {
     "name": "stdout",
     "output_type": "stream",
     "text": [
      "O arquivo: a.txt é igual ao arquivo: b.txt\n",
      "O hash do arquivo a.txt é 55902f54accbc8175267d3c5d553fb1c5bbbb1db\n",
      "O hash do arquivo b.txt é 55902f54accbc8175267d3c5d553fb1c5bbbb1db\n"
     ]
    }
   ],
   "source": [
    "#fç digest resume os dados do método update\n",
    "if hash1.digest() != hash2.digest():\n",
    "    print(f'O arquivo: {arquivo1} é diferente do arquivo: {arquivo2}')\n",
    "    print('O hash do arquivo a.txt é', hash1.hexdigest())\n",
    "    print('O hash do arquivo b.txt é', hash2.hexdigest())\n",
    "else:\n",
    "    print(f'O arquivo: {arquivo1} é igual ao arquivo: {arquivo2}')\n",
    "    print('O hash do arquivo a.txt é', hash1.hexdigest())\n",
    "    print('O hash do arquivo b.txt é', hash2.hexdigest())"
   ]
  },
  {
   "cell_type": "code",
   "execution_count": null,
   "metadata": {},
   "outputs": [],
   "source": []
  }
 ],
 "metadata": {
  "kernelspec": {
   "display_name": "Python 3",
   "language": "python",
   "name": "python3"
  },
  "language_info": {
   "codemirror_mode": {
    "name": "ipython",
    "version": 3
   },
   "file_extension": ".py",
   "mimetype": "text/x-python",
   "name": "python",
   "nbconvert_exporter": "python",
   "pygments_lexer": "ipython3",
   "version": "3.8.5"
  }
 },
 "nbformat": 4,
 "nbformat_minor": 4
}
