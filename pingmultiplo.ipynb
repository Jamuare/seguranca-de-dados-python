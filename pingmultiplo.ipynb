{
 "cells": [
  {
   "cell_type": "code",
   "execution_count": 1,
   "metadata": {},
   "outputs": [],
   "source": [
    "import os, time"
   ]
  },
  {
   "cell_type": "code",
   "execution_count": 3,
   "metadata": {},
   "outputs": [],
   "source": [
    "#criando arquivos de hosts\n",
    "arquivo = open('hosts.txt','a')\n",
    "texto = \"\"\"www.google.com\n",
    "8.8.8.8\n",
    "www.pudim.com.br\n",
    "4.4.4.4\n",
    "\"\"\"\n",
    "arquivo.write(texto)\n",
    "arquivo.close()"
   ]
  },
  {
   "cell_type": "code",
   "execution_count": 12,
   "metadata": {},
   "outputs": [
    {
     "name": "stdout",
     "output_type": "stream",
     "text": [
      "Verificando o ip:  www.google.com\n",
      "------------------------------------------------------------\n",
      "\n",
      "Disparando www.google.com [142.250.78.196] com 32 bytes de dados:\n",
      "Resposta de 142.250.78.196: bytes=32 tempo=37ms TTL=112\n",
      "Resposta de 142.250.78.196: bytes=32 tempo=38ms TTL=112\n",
      "\n",
      "Estat¡sticas do Ping para 142.250.78.196:\n",
      "    Pacotes: Enviados = 2, Recebidos = 2, Perdidos = 0 (0% de\n",
      "             perda),\n",
      "Aproximar um n£mero redondo de vezes em milissegundos:\n",
      "    M¡nimo = 37ms, M ximo = 38ms, M‚dia = 37ms\n",
      "\n",
      "------------------------------------------------------------\n",
      "Verificando o ip:  8.8.8.8\n",
      "------------------------------------------------------------\n",
      "\n",
      "Disparando 8.8.8.8 com 32 bytes de dados:\n",
      "Resposta de 8.8.8.8: bytes=32 tempo=36ms TTL=112\n",
      "Resposta de 8.8.8.8: bytes=32 tempo=36ms TTL=112\n",
      "\n",
      "Estat¡sticas do Ping para 8.8.8.8:\n",
      "    Pacotes: Enviados = 2, Recebidos = 2, Perdidos = 0 (0% de\n",
      "             perda),\n",
      "Aproximar um n£mero redondo de vezes em milissegundos:\n",
      "    M¡nimo = 36ms, M ximo = 36ms, M‚dia = 36ms\n",
      "\n",
      "------------------------------------------------------------\n",
      "Verificando o ip:  www.pudim.com.br\n",
      "------------------------------------------------------------\n",
      "\n",
      "Disparando pudim.com.br [54.207.20.104] com 32 bytes de dados:\n",
      "Esgotado o tempo limite do pedido.\n",
      "Esgotado o tempo limite do pedido.\n",
      "\n",
      "Estat¡sticas do Ping para 54.207.20.104:\n",
      "    Pacotes: Enviados = 2, Recebidos = 0, Perdidos = 2 (100% de\n",
      "             perda),\n",
      "\n",
      "------------------------------------------------------------\n",
      "Verificando o ip:  4.4.4.4\n",
      "------------------------------------------------------------\n",
      "\n",
      "Disparando 4.4.4.4 com 32 bytes de dados:\n",
      "Esgotado o tempo limite do pedido.\n",
      "Esgotado o tempo limite do pedido.\n",
      "\n",
      "Estat¡sticas do Ping para 4.4.4.4:\n",
      "    Pacotes: Enviados = 2, Recebidos = 0, Perdidos = 2 (100% de\n",
      "             perda),\n",
      "\n",
      "------------------------------------------------------------\n"
     ]
    }
   ],
   "source": [
    "with open('hosts.txt') as file:\n",
    "    dump = file.read()\n",
    "    dump = dump.splitlines()\n",
    "    \n",
    "    for ip in dump:\n",
    "        print('Verificando o ip: ', ip)\n",
    "        print('-'*60)\n",
    "        x = os.popen('ping -n 2 {}'.format(ip)).read()\n",
    "        print(x)\n",
    "        print('-'*60)\n",
    "        time.sleep(2) "
   ]
  },
  {
   "cell_type": "code",
   "execution_count": null,
   "metadata": {},
   "outputs": [],
   "source": []
  }
 ],
 "metadata": {
  "kernelspec": {
   "display_name": "Python 3",
   "language": "python",
   "name": "python3"
  },
  "language_info": {
   "codemirror_mode": {
    "name": "ipython",
    "version": 3
   },
   "file_extension": ".py",
   "mimetype": "text/x-python",
   "name": "python",
   "nbconvert_exporter": "python",
   "pygments_lexer": "ipython3",
   "version": "3.8.5"
  }
 },
 "nbformat": 4,
 "nbformat_minor": 4
}
