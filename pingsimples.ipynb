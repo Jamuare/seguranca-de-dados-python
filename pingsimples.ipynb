{
 "cells": [
  {
   "cell_type": "code",
   "execution_count": null,
   "metadata": {},
   "outputs": [],
   "source": [
    "import os"
   ]
  },
  {
   "cell_type": "code",
   "execution_count": 12,
   "metadata": {},
   "outputs": [
    {
     "name": "stdin",
     "output_type": "stream",
     "text": [
      "Digite o ip ou host a ser verificado:  www.google.com\n"
     ]
    }
   ],
   "source": [
    "ip_ou_host = input('Digite o ip ou host a ser verificado: ')"
   ]
  },
  {
   "cell_type": "code",
   "execution_count": 9,
   "metadata": {},
   "outputs": [
    {
     "data": {
      "text/plain": [
       "0"
      ]
     },
     "execution_count": 9,
     "metadata": {},
     "output_type": "execute_result"
    }
   ],
   "source": [
    "os.system('ping -n 6 {}'.format(ip_ou_host))"
   ]
  },
  {
   "cell_type": "code",
   "execution_count": 13,
   "metadata": {},
   "outputs": [
    {
     "name": "stdout",
     "output_type": "stream",
     "text": [
      "\n",
      "Disparando www.google.com [172.217.29.4] com 32 bytes de dados:\n",
      "Resposta de 172.217.29.4: bytes=32 tempo=39ms TTL=112\n",
      "Resposta de 172.217.29.4: bytes=32 tempo=38ms TTL=112\n",
      "Resposta de 172.217.29.4: bytes=32 tempo=39ms TTL=112\n",
      "Resposta de 172.217.29.4: bytes=32 tempo=39ms TTL=112\n",
      "Resposta de 172.217.29.4: bytes=32 tempo=38ms TTL=112\n",
      "Resposta de 172.217.29.4: bytes=32 tempo=37ms TTL=112\n",
      "\n",
      "Estat¡sticas do Ping para 172.217.29.4:\n",
      "    Pacotes: Enviados = 6, Recebidos = 6, Perdidos = 0 (0% de\n",
      "             perda),\n",
      "Aproximar um n£mero redondo de vezes em milissegundos:\n",
      "    M¡nimo = 37ms, M ximo = 39ms, M‚dia = 38ms\n",
      "\n"
     ]
    }
   ],
   "source": [
    "x = os.popen('ping -n 6 {}'.format(ip_ou_host)).read()\n",
    "print(x)"
   ]
  },
  {
   "cell_type": "code",
   "execution_count": null,
   "metadata": {},
   "outputs": [],
   "source": []
  }
 ],
 "metadata": {
  "kernelspec": {
   "display_name": "Python 3",
   "language": "python",
   "name": "python3"
  },
  "language_info": {
   "codemirror_mode": {
    "name": "ipython",
    "version": 3
   },
   "file_extension": ".py",
   "mimetype": "text/x-python",
   "name": "python",
   "nbconvert_exporter": "python",
   "pygments_lexer": "ipython3",
   "version": "3.8.5"
  }
 },
 "nbformat": 4,
 "nbformat_minor": 4
}
