{
 "cells": [
  {
   "cell_type": "code",
   "execution_count": 1,
   "metadata": {},
   "outputs": [],
   "source": [
    "import socket"
   ]
  },
  {
   "cell_type": "code",
   "execution_count": null,
   "metadata": {},
   "outputs": [
    {
     "name": "stdout",
     "output_type": "stream",
     "text": [
      "Socket criado com sucesso\n",
      "\n",
      "Servidor enviando mensagem...\n"
     ]
    }
   ],
   "source": [
    "s = socket.socket(socket.AF_INET, socket.SOCK_DGRAM)\n",
    "\n",
    "print('Socket criado com sucesso')\n",
    "\n",
    "host = 'localhost'\n",
    "porta = 5432\n",
    "\n",
    "s.bind((host, porta))\n",
    "\n",
    "mensagem = '\\nServidor: Oláááááá enfermeira!!!'\n",
    "\n",
    "while True:\n",
    "    dados, end = s.recvfrom(4096)\n",
    "    \n",
    "    if dados:\n",
    "        print('\\nServidor enviando mensagem...')\n",
    "        s.sendto(dados + (mensagem.encode()), end)"
   ]
  },
  {
   "cell_type": "code",
   "execution_count": null,
   "metadata": {},
   "outputs": [],
   "source": []
  }
 ],
 "metadata": {
  "kernelspec": {
   "display_name": "Python 3",
   "language": "python",
   "name": "python3"
  },
  "language_info": {
   "codemirror_mode": {
    "name": "ipython",
    "version": 3
   },
   "file_extension": ".py",
   "mimetype": "text/x-python",
   "name": "python",
   "nbconvert_exporter": "python",
   "pygments_lexer": "ipython3",
   "version": "3.8.5"
  }
 },
 "nbformat": 4,
 "nbformat_minor": 4
}
